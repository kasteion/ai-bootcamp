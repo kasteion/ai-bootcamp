{
 "cells": [
  {
   "cell_type": "markdown",
   "id": "a2c464c5",
   "metadata": {},
   "source": [
    "# Homework\n",
    "\n",
    "### Question 4\n",
    "\n",
    "Download the data (only for podcasts). How many records are there?"
   ]
  },
  {
   "cell_type": "code",
   "execution_count": 1,
   "id": "8a2826a2",
   "metadata": {},
   "outputs": [],
   "source": [
    "import homework as docs\n",
    "\n",
    "github_data = docs.read_github_data('DataTalksClub', 'datatalksclub.github.io')\n",
    "parsed_data = docs.parse_data(github_data)\n"
   ]
  },
  {
   "cell_type": "code",
   "execution_count": 2,
   "id": "b551c588",
   "metadata": {},
   "outputs": [
    {
     "data": {
      "text/plain": [
       "184"
      ]
     },
     "execution_count": 2,
     "metadata": {},
     "output_type": "execute_result"
    }
   ],
   "source": [
    "len(github_data)"
   ]
  },
  {
   "cell_type": "markdown",
   "id": "2c0ca8a4",
   "metadata": {},
   "source": [
    "A/ `184 records`"
   ]
  },
  {
   "cell_type": "markdown",
   "id": "20ce4c73",
   "metadata": {},
   "source": [
    "### Question 5\n",
    "\n",
    "Let's prepare this data. It's already structured, so you can chunk it using paragraphs. Let's do chunk size 30 and overlap 15. How many chunks do you have in the result?"
   ]
  },
  {
   "cell_type": "code",
   "execution_count": 152,
   "id": "10b80ff1",
   "metadata": {},
   "outputs": [],
   "source": [
    "import re\n",
    "\n",
    "paragraphs = []\n",
    "\n",
    "for data in github_data:\n",
    "    text = data.content\n",
    "    paragraphs.extend(re.split(r\"\\n\\s*\\n\", text.strip()))"
   ]
  },
  {
   "cell_type": "code",
   "execution_count": 153,
   "id": "f907dc8c",
   "metadata": {},
   "outputs": [
    {
     "data": {
      "text/plain": [
       "854"
      ]
     },
     "execution_count": 153,
     "metadata": {},
     "output_type": "execute_result"
    }
   ],
   "source": [
    "len(paragraphs)"
   ]
  },
  {
   "cell_type": "code",
   "execution_count": 156,
   "id": "e937af23",
   "metadata": {},
   "outputs": [],
   "source": [
    "def sliding_window(seq, size, step):\n",
    "    \"\"\"Create overlapping chunks using sliding window approach.\"\"\"\n",
    "    if size <= 0 or step <= 0:\n",
    "        raise ValueError(\"size and step must be positive\")\n",
    "\n",
    "    n = len(seq)\n",
    "    result = []\n",
    "    for i in range(0, n, step):\n",
    "        batch = seq[i:i+size]\n",
    "        result.append(batch)\n",
    "        if i + size >= n:\n",
    "            break\n",
    "\n",
    "    return result\n",
    "\n",
    "def format_chunk(chunk):\n",
    "    return {\n",
    "        'content': ' '.join(chunk)\n",
    "    }"
   ]
  },
  {
   "cell_type": "code",
   "execution_count": 157,
   "id": "c4cfdf55",
   "metadata": {},
   "outputs": [],
   "source": [
    "chunks = []\n",
    "\n",
    "for chunk in sliding_window(paragraphs, 30, 15):\n",
    "    processed = format_chunk(chunk)\n",
    "    chunks.append(processed)\n"
   ]
  },
  {
   "cell_type": "code",
   "execution_count": 158,
   "id": "d05e29e9",
   "metadata": {},
   "outputs": [
    {
     "data": {
      "text/plain": [
       "56"
      ]
     },
     "execution_count": 158,
     "metadata": {},
     "output_type": "execute_result"
    }
   ],
   "source": [
    "len(chunks)"
   ]
  },
  {
   "cell_type": "markdown",
   "id": "730e4ccf",
   "metadata": {},
   "source": [
    "A/ `56 chunks`"
   ]
  },
  {
   "cell_type": "markdown",
   "id": "0ee0e001",
   "metadata": {},
   "source": [
    "### Question 6\n",
    "\n",
    "Index the data with Index from minsearch. What's the first episode in the results for \"how do I make money with AI?\""
   ]
  },
  {
   "cell_type": "code",
   "execution_count": 160,
   "id": "1df48e73",
   "metadata": {},
   "outputs": [
    {
     "data": {
      "text/plain": [
       "<minsearch.minsearch.Index at 0x15935a3f0>"
      ]
     },
     "execution_count": 160,
     "metadata": {},
     "output_type": "execute_result"
    }
   ],
   "source": [
    "from minsearch import Index\n",
    "\n",
    "index = Index(\n",
    "    text_fields=[\"content\"],\n",
    ")\n",
    "\n",
    "index.fit(chunks)"
   ]
  },
  {
   "cell_type": "code",
   "execution_count": 166,
   "id": "2f442d55",
   "metadata": {},
   "outputs": [],
   "source": [
    "search = index.search(\"how do I make money with AI?\", num_results=5)"
   ]
  },
  {
   "cell_type": "code",
   "execution_count": 263,
   "id": "d318f22e",
   "metadata": {},
   "outputs": [
    {
     "name": "stdout",
     "output_type": "stream",
     "text": [
      "---\n",
      "episode: 8\n",
      "guests:\n",
      "- jekaterinakokatjuhha\n",
      "ids:\n",
      "  anchor: The-Journey-of-a-Data-Generalist-From-Bioinformatics-to-Freelancing---Jekaterina-Kokatjuhha-e1upvim\n",
      "  youtube: FRi0SUtxdMw\n",
      "image: images/podcast/s12e08-journey-of-data-generalist-from-bioinformatics-to-freelancing.jpg\n",
      "links:\n",
      "  anchor: https://anchor.fm/datatalksclub/episodes/The-Journey-of-a-Data-Generalist-From-Bioinformatics-to-Freelancing---Jekaterina-Kokatjuhha-e1upvim\n",
      "  apple: https://podcasts.apple.com/us/podcast/the-journey-of-a-data-generalist-from/id1541710331?i=1000599125044\n",
      "  spotify: https://open.spotify.com/episode/5fB185hGlGYQmdk0kbIsPv?si=YtnsaYNzTc-fl7emZ2IjEA\n",
      "  youtube: https://www.youtube.com/watch?v=FRi0SUtxdMw\n",
      "season: 12\n",
      "short: 'The Journey of a Data Generalist: From Bioinformatics to Freelancing'\n",
      "title: 'The Journey of a Data Generalist: From Bioinformatics to Freelancing'\n",
      "transcript:\n",
      "- line: This week we'll talk about being a data generalist. We'll discuss going from\n",
      "    bioinformatics to freelancing. We have a special guest today, Katya. As a freelancer\n",
      "    Katya is helping companies bridge the gap between business and data by building\n",
      "    actionable analytics and coaching the teams. She has a lot o\n"
     ]
    }
   ],
   "source": [
    "print(search[0]['content'][:1200])"
   ]
  },
  {
   "cell_type": "markdown",
   "id": "9ea04de1",
   "metadata": {},
   "source": [
    "A/ `Season 12 - Episode 8 - The Journey of a Data Generalist From Bioinformatics to Freelancing`"
   ]
  },
  {
   "cell_type": "markdown",
   "id": "99b63e47",
   "metadata": {},
   "source": [
    "### Question 5 Again"
   ]
  },
  {
   "cell_type": "code",
   "execution_count": 218,
   "id": "d3f22d18",
   "metadata": {},
   "outputs": [],
   "source": [
    "from homework import RawRepositoryFile\n",
    "from typing import List, Dict, Any\n",
    "import frontmatter\n",
    "\n",
    "def parse_data(data_raw: List[RawRepositoryFile]) -> List[Dict[str, Any]]:\n",
    "    data_parsed = []\n",
    "    for f in data_raw:\n",
    "        post = frontmatter.loads(f.content)\n",
    "        data = post.to_dict()\n",
    "        data['filename'] = f.filename\n",
    "        data['content'] = data.get('content', '') + ''.join([t.get('line', '') for t in data.get('transcript', [])])\n",
    "        data_parsed.append(data)\n",
    "\n",
    "    return data_parsed"
   ]
  },
  {
   "cell_type": "code",
   "execution_count": 219,
   "id": "505a4071",
   "metadata": {},
   "outputs": [],
   "source": [
    "parsed_data_2 = parse_data(github_data)"
   ]
  },
  {
   "cell_type": "code",
   "execution_count": 221,
   "id": "2bd7da0e",
   "metadata": {},
   "outputs": [],
   "source": [
    "# [{'content': p } for p in paragraphs]\n",
    "chunks2 = docs.chunk_documents(parsed_data_2, 30, 15)"
   ]
  },
  {
   "cell_type": "code",
   "execution_count": 222,
   "id": "9b67e904",
   "metadata": {},
   "outputs": [
    {
     "data": {
      "text/plain": [
       "518519"
      ]
     },
     "execution_count": 222,
     "metadata": {},
     "output_type": "execute_result"
    }
   ],
   "source": [
    "len(chunks2)"
   ]
  },
  {
   "cell_type": "markdown",
   "id": "28058818",
   "metadata": {},
   "source": [
    "A/ `518519 chunks` "
   ]
  },
  {
   "cell_type": "markdown",
   "id": "6a7d965b",
   "metadata": {},
   "source": [
    "### Question 6 Again"
   ]
  },
  {
   "cell_type": "code",
   "execution_count": 272,
   "id": "73eac4db",
   "metadata": {},
   "outputs": [
    {
     "data": {
      "text/plain": [
       "<minsearch.minsearch.Index at 0x125190710>"
      ]
     },
     "execution_count": 272,
     "metadata": {},
     "output_type": "execute_result"
    }
   ],
   "source": [
    "index2 = Index(\n",
    "    text_fields=[\"content\"],\n",
    ")\n",
    "\n",
    "index2.fit(chunks2)"
   ]
  },
  {
   "cell_type": "code",
   "execution_count": 273,
   "id": "e4178f12",
   "metadata": {},
   "outputs": [],
   "source": [
    "search2 = index2.search(\"how do I make money with AI?\", num_results=15)"
   ]
  },
  {
   "cell_type": "code",
   "execution_count": 274,
   "id": "12eb7b04",
   "metadata": {},
   "outputs": [
    {
     "data": {
      "text/plain": [
       "['The Essentials of Public Speaking for Career in Data Science',\n",
       " 'Responsible and Explainable AI',\n",
       " 'Freelancing in Machine Learning',\n",
       " 'From Open-Source Maintainer to Founder',\n",
       " 'Lessons Learned from Freelancing and Working in a Start-up',\n",
       " 'Investing in Open-Source Data Tools',\n",
       " 'Responsible and Explainable AI',\n",
       " 'New Roles and Key Skills to Monetize Machine Learning',\n",
       " 'Freelancing in Machine Learning',\n",
       " 'Data Science Career Development',\n",
       " 'From Open-Source Maintainer to Founder',\n",
       " 'Becoming a Solopreneur in Data',\n",
       " 'Accelerating the Adoption of AI through Diversity',\n",
       " 'New Roles and Key Skills to Monetize Machine Learning',\n",
       " 'From Open-Source Maintainer to Founder']"
      ]
     },
     "execution_count": 274,
     "metadata": {},
     "output_type": "execute_result"
    }
   ],
   "source": [
    "[p['title'] for p in search2]"
   ]
  },
  {
   "cell_type": "markdown",
   "id": "7bee0269",
   "metadata": {},
   "source": [
    "A/ `The Essentials of Public Speaking for Career in Data Science`"
   ]
  }
 ],
 "metadata": {
  "kernelspec": {
   "display_name": "ai-bootcamp",
   "language": "python",
   "name": "python3"
  },
  "language_info": {
   "codemirror_mode": {
    "name": "ipython",
    "version": 3
   },
   "file_extension": ".py",
   "mimetype": "text/x-python",
   "name": "python",
   "nbconvert_exporter": "python",
   "pygments_lexer": "ipython3",
   "version": "3.13.1"
  }
 },
 "nbformat": 4,
 "nbformat_minor": 5
}
