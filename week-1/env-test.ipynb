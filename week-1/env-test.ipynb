{
 "cells": [
  {
   "cell_type": "code",
   "execution_count": 1,
   "id": "b2413074",
   "metadata": {},
   "outputs": [],
   "source": [
    "from openai import OpenAI "
   ]
  },
  {
   "cell_type": "code",
   "execution_count": 2,
   "id": "7c883853",
   "metadata": {},
   "outputs": [],
   "source": [
    "client = OpenAI()"
   ]
  },
  {
   "cell_type": "code",
   "execution_count": 3,
   "id": "c05dcf23",
   "metadata": {},
   "outputs": [
    {
     "name": "stdout",
     "output_type": "stream",
     "text": [
      "**The Moonlight Unicorn**\n",
      "\n",
      "Once upon a time, in a magical forest filled with twinkling fireflies and whispering trees, lived a beautiful unicorn named Luna. Luna had a shimmering silver coat and a horn that sparkled like a thousand stars. Every night, she would graze under the moonlight, where the world transformed into a dreamland.\n",
      "\n",
      "One peaceful evening, while the stars twinkled above, Luna noticed a gentle owl named Oliver perched on a branch, looking worried. Curious, she trotted over to him. “What’s wrong, Oliver?” she asked.\n",
      "\n",
      "“I’ve lost my way home, and I can’t find my nest,” he replied, his big eyes shining with worry.\n",
      "\n",
      "“Don’t worry! I can help you,” Luna said with a reassuring smile. With a flick of her sparkling horn, she summoned shimmering stardust, creating a glowing path through the trees.\n",
      "\n",
      "Together, they journeyed through the enchanted forest, where moonbeams danced and the night flowers bloomed. They crossed a bubbling brook and climbed over mossy stones, all the while chatting and laughing under the starry sky.\n",
      "\n",
      "As they ventured deeper into the forest, Oliver pointed out landmarks, and Luna listened intently. Finally, after what felt like a wonderful adventure, they reached a wide old oak tree, its branches heavy with leaves. “This is it!” Oliver hooted joyfully.\n",
      "\n",
      "With a grateful smile, Oliver fluffed his feathers. “Thank you, Luna! I couldn’t have done it without you!”\n",
      "\n",
      "Luna felt a warm glow of happiness in her heart. “Friendship is the best kind of magic,” she replied.\n",
      "\n",
      "As the moonlight bathed the forest, Luna and Oliver shared stories until their eyes began to droop. Finally, with a gentle nuzzle, Luna said, “It’s time for you to rest, dear friend.”\n",
      "\n",
      "“I will never forget this night,” said Oliver, settling into his cozy nest. “You’re the most magical unicorn!”\n",
      "\n",
      "With one last look at the shimmering sky, Luna turned to leave but paused. With a swirl of her horn, she created a shimmering star that floated above the tree, a guiding light for Oliver.\n",
      "\n",
      "And with that, Luna trotted back through the moonlit forest, her heart full of joy, knowing that every little act of kindness can make the world a brighter place. \n",
      "\n",
      "As she lay down beneath the starlit sky, she dreamed of all the adventures still waiting for her and the friends she had yet to meet. And so, the tranquil night whispered all its secrets, while Luna, the Moonlight Unicorn, drifted off to sleep, wrapped in the warmth of friendship.\n",
      "\n",
      "**The End**\n"
     ]
    }
   ],
   "source": [
    "from openai import OpenAI\n",
    "client = OpenAI()\n",
    "\n",
    "response = client.responses.create(\n",
    "    model=\"gpt-4o-mini\",\n",
    "    input=\"Write a short bedtime story about a unicorn.\"\n",
    ")\n",
    "\n",
    "print(response.output_text)"
   ]
  }
 ],
 "metadata": {
  "kernelspec": {
   "display_name": "ai-bootcamp",
   "language": "python",
   "name": "python3"
  },
  "language_info": {
   "codemirror_mode": {
    "name": "ipython",
    "version": 3
   },
   "file_extension": ".py",
   "mimetype": "text/x-python",
   "name": "python",
   "nbconvert_exporter": "python",
   "pygments_lexer": "ipython3",
   "version": "3.13.1"
  }
 },
 "nbformat": 4,
 "nbformat_minor": 5
}
