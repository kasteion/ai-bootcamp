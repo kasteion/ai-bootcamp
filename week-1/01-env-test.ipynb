{
 "cells": [
  {
   "cell_type": "markdown",
   "id": "752c0a28",
   "metadata": {},
   "source": [
    "# Environment Preparation: Github Codespaces, Python and Jupyter notebooks"
   ]
  },
  {
   "cell_type": "markdown",
   "id": "1a77fb57",
   "metadata": {},
   "source": [
    "## Setting up Github Codespaces\n",
    "\n",
    "Github Codespaces is the recommended environment for this workshop.\n",
    "\n",
    "But you can use any other environment with Jupyter Notebook. If you want to do it on your laptop, it's perfectly fine.\n",
    "\n",
    "- Create a repository on GitHub, initialize it with README.md\n",
    "\n",
    "- Add the OpenAI key:\n",
    "  - Go to Settings -> Secrets and Variables (under Security) -> Codespaces\n",
    "  - Click \"New repository secret\"\n",
    "  - Name: OPENAI_API_KEY, Secret: your key\n",
    "  - Click \"Add secret\"\n",
    "\n",
    "- Add other keys in the same way\n",
    "\n",
    "- Create a codespace\n",
    "  - Click \"Code\"\n",
    "  - Select the \"Codespaces\" tab\n",
    "  - \"Create codespaces on main\""
   ]
  },
  {
   "cell_type": "markdown",
   "id": "bead4c1d",
   "metadata": {},
   "source": [
    "## Local environment\n",
    "\n",
    "In case you use it on your laptop, add this before you start your jupyter:\n",
    "\n",
    "```bash\n",
    "export OPENAI_API_KEY='YOUR_KEY'\n",
    "```\n",
    "\n",
    "Alternatively, you can use [direnv](https://direnv.net/) - very convenient tool for managing secret keys locally.\n",
    "\n",
    "Make sure you add .envrc to your .gitignore\n",
    "\n",
    "My `.envrc`:\n",
    "\n",
    "```bash\n",
    "export OPENAI_API_KEY='sk-proj-...'\n",
    "export ANTHROPIC_API_KEY='sk-ant-api03-...'\n",
    "export ZAI_API_KEY='...'\n",
    "```\n",
    "\n",
    "my `.gitignore`\n",
    "\n",
    "```bash\n",
    ".envrc\n",
    ".ipynb_checkpoints\n",
    "__pycache__\n",
    "```"
   ]
  },
  {
   "cell_type": "markdown",
   "id": "bf7bd33f",
   "metadata": {},
   "source": [
    "## Required libraries\n",
    "\n",
    "You can install all the dependencies for this project using uv:\n",
    "\n",
    "```bash\n",
    "pip install uv\n",
    "uv add openai requests minsearch jupyter\n",
    "```\n",
    "\n",
    "Do it in the root directory of the course\n",
    "\n",
    "Running jupyter:\n",
    "\n",
    "```bash\n",
    "uv run jupyter notebook\n",
    "```"
   ]
  },
  {
   "cell_type": "code",
   "execution_count": 1,
   "id": "b2413074",
   "metadata": {},
   "outputs": [],
   "source": [
    "from openai import OpenAI"
   ]
  },
  {
   "cell_type": "code",
   "execution_count": 2,
   "id": "7c883853",
   "metadata": {},
   "outputs": [],
   "source": [
    "client = OpenAI()"
   ]
  },
  {
   "cell_type": "code",
   "execution_count": null,
   "id": "c05dcf23",
   "metadata": {},
   "outputs": [
    {
     "name": "stdout",
     "output_type": "stream",
     "text": [
      "**The Dreaming Unicorn**\n",
      "\n",
      "Once upon a time, in a shimmering forest where the trees sparkled like diamonds, there lived a gentle unicorn named Lila. Lila had a coat as white as fresh snow and a mane that sparkled with all the colors of the rainbow. Every night, as the sun dipped below the horizon and the stars began to twinkle, Lila would wander to her favorite glade, where the moonlight danced on the grass.\n",
      "\n",
      "One evening, as Lila settled beneath a great oak tree, she noticed a little girl named Mia. Mia was lost and frightened, her eyes wide with tears. Lila, with her kind heart, trotted over to the girl.\n",
      "\n",
      "“Don’t be afraid,” Lila said softly. “I’m Lila, the dreaming unicorn. Would you like to come on an adventure with me?”\n",
      "\n",
      "Mia’s eyes lit up with wonder. “Oh, yes!” she exclaimed, wiping her tears. “Where will we go?”\n",
      "\n",
      "With a gentle nudge from her shimmering horn, Lila whisked Mia onto her back, and together they soared into the starry sky. They flew over sparkling rivers and lush fields, where fireflies lit up the night like tiny lanterns.\n",
      "\n",
      "As they flew, Lila shared tales of her woodland friends—the wise owl, the playful deer, and the mischievous rabbits. Mia listened, her heart swelling with joy. \n",
      "\n",
      "Eventually, they landed in a magical meadow filled with glowing flowers. “These flowers grant wishes,” Lila whispered. “Close your eyes and think of your heart’s desire.”\n",
      "\n",
      "Mia closed her eyes tightly, wishing for courage and kindness. As she opened them, the flowers pulsed with light, and a soft breeze wrapped around them like a warm embrace.\n",
      "\n",
      "Feeling braver than ever, Mia turned to Lila. “Thank you for this magical adventure!”\n",
      "\n",
      "As the night wore on, Lila took Mia back to the edge of the forest. “Remember, the magic of kindness and courage is always within you. Whenever you feel scared, just close your eyes and think of our adventure.”\n",
      "\n",
      "With a gentle nuzzle, Lila watched as Mia waved goodbye and made her way home.\n",
      "\n",
      "That night, as Mia snuggled into bed, she smiled, knowing she was never alone. She would always carry Lila’s magic in her heart.\n",
      "\n",
      "And under the watchful eyes of the twinkling stars, the dreaming unicorn soared into the night, ready for her next adventure.\n",
      "\n",
      "**The End.**\n"
     ]
    }
   ],
   "source": [
    "response = client.responses.create(\n",
    "    model=\"gpt-4o-mini\",\n",
    "    input=\"Write a short bedtime story about a unicorn.\"\n",
    ")\n",
    "\n",
    "print(response.output_text)"
   ]
  }
 ],
 "metadata": {
  "kernelspec": {
   "display_name": "ai-bootcamp",
   "language": "python",
   "name": "python3"
  },
  "language_info": {
   "codemirror_mode": {
    "name": "ipython",
    "version": 3
   },
   "file_extension": ".py",
   "mimetype": "text/x-python",
   "name": "python",
   "nbconvert_exporter": "python",
   "pygments_lexer": "ipython3",
   "version": "3.13.1"
  }
 },
 "nbformat": 4,
 "nbformat_minor": 5
}
