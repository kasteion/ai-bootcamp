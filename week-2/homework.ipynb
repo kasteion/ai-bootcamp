{
 "cells": [
  {
   "cell_type": "markdown",
   "id": "8c322672",
   "metadata": {},
   "source": [
    "# Build a Summary Agent Using Wikipedia Pages"
   ]
  },
  {
   "cell_type": "code",
   "execution_count": 33,
   "id": "efabc0d7",
   "metadata": {},
   "outputs": [],
   "source": [
    "import requests\n",
    "from requests.exceptions import RequestException\n",
    "\n",
    "def fetch_url(url: str) -> str:\n",
    "    \"\"\"\n",
    "    Fetch the Markdown content of a web page using the Jina Reader service.\n",
    "\n",
    "    This function prepends the Jina Reader proxy URL to the provided `url`,\n",
    "    sends a GET request with a timeout, and decodes the response as UTF-8 text.\n",
    "\n",
    "    Args:\n",
    "        url (str): The URL of the page to fetch.\n",
    "\n",
    "    Returns:\n",
    "        Optional[str]: The Markdown-formatted content of the page if the request\n",
    "        succeeds; otherwise, None.\n",
    "\n",
    "    Raises:\n",
    "        None: All network or decoding errors are caught and suppressed.\n",
    "               Logs or error messages could be added as needed.\n",
    "    \"\"\"\n",
    "    jina_reader_base_url = 'https://r.jina.ai/'\n",
    "    jina_reader_url = jina_reader_base_url + url\n",
    "\n",
    "    try:\n",
    "        response = requests.get(jina_reader_url, timeout=10)\n",
    "        response.raise_for_status()\n",
    "    except RequestException as e:\n",
    "        raise ValueError(f\"Failed to fetch URL '{url}': {e}\") from e\n",
    "\n",
    "    try:\n",
    "        return response.content.decode('utf-8')\n",
    "    except UnicodeDecodeError as e:\n",
    "        raise ValueError(f\"Failed to decode response content for URL '{url}': {e}\") from e"
   ]
  },
  {
   "cell_type": "code",
   "execution_count": 34,
   "id": "529014c6",
   "metadata": {},
   "outputs": [],
   "source": [
    "from minsearch import AppendableIndex\n",
    "from typing import List, Dict, Any, Optional\n",
    "\n",
    "class SearchTools:\n",
    "\n",
    "    def __init__(self) -> None:\n",
    "        self.index = AppendableIndex(text_fields=['summary'])\n",
    "\n",
    "    def search(self, query: str) -> List[Dict[str, Any]]:\n",
    "        \"\"\"\n",
    "        Search the index for documents matching a query string.\n",
    "\n",
    "        Args:\n",
    "            query (str): The search query.\n",
    "\n",
    "        Returns:\n",
    "            List[Dict[str, Any]]: A list of search result dictionaries.\n",
    "        \"\"\"\n",
    "        return self.index.search(query, num_results=5)\n",
    "\n",
    "    def save_summary(self, url: str, summary: Optional[str] = None) -> str:\n",
    "        \"\"\"\n",
    "        Save the summary of a url\n",
    "\n",
    "        Args:\n",
    "            url (str): link to the web page.\n",
    "            summary (str): summary of the web page contents\n",
    "\n",
    "        Returns:\n",
    "            str: \"SUCCESS\" upon successful indexing.\n",
    "        \"\"\"\n",
    "        doc = {\n",
    "            \"url\": url,\n",
    "            \"summary\": summary\n",
    "        }\n",
    "        self.index.append(doc)\n",
    "\n",
    "        return \"SUCCESS\""
   ]
  },
  {
   "cell_type": "code",
   "execution_count": 35,
   "id": "9922a393",
   "metadata": {},
   "outputs": [],
   "source": [
    "search_tools = SearchTools()"
   ]
  },
  {
   "cell_type": "code",
   "execution_count": 36,
   "id": "c28c331d",
   "metadata": {},
   "outputs": [],
   "source": [
    "from pydantic_ai.messages import FunctionToolCallEvent\n",
    "\n",
    "class NamedCallback:\n",
    "\n",
    "    def __init__(self, agent):\n",
    "        self.agent_name = agent.name\n",
    "\n",
    "    async def print_function_calls(self, ctx, event):\n",
    "        # Detect nested streams\n",
    "        if hasattr(event, \"__aiter__\"):\n",
    "            async for sub in event:\n",
    "                await self.print_function_calls(ctx, sub)\n",
    "            return\n",
    "\n",
    "        if isinstance(event, FunctionToolCallEvent):\n",
    "            tool_name = event.part.tool_name\n",
    "            args = event.part.args\n",
    "            print(f\"TOOL CALL ({self.agent_name}): {tool_name}({args})\")\n",
    "\n",
    "    async def __call__(self, ctx, event):\n",
    "        return await self.print_function_calls(ctx, event)"
   ]
  },
  {
   "cell_type": "code",
   "execution_count": null,
   "id": "afc8d59e",
   "metadata": {},
   "outputs": [],
   "source": [
    "from pydantic_ai import Agent\n",
    "\n",
    "instructions = \"\"\"\n",
    "You are a helpful assistant that provides summarized answers to user questions.\n",
    "Every time the user gives you a url summarize it and save it to the knowledge database.\n",
    "If the user is just asking you search the knowledge database to answer the question.\n",
    "\n",
    "You can user provides a url you can fetch data from that web to give a summary\n",
    "You can save summaries to the knowledge database\n",
    "You can search the knowledge database\n",
    "\"\"\"\n",
    "\n",
    "agent_tools = [fetch_url, search_tools.search, search_tools.save_summary]\n",
    "\n",
    "summarizer = Agent(\n",
    "    name='summary_agent',\n",
    "    instructions=instructions,\n",
    "    tools=agent_tools,\n",
    "    model='gpt-4o-mini'\n",
    ")"
   ]
  },
  {
   "cell_type": "code",
   "execution_count": 38,
   "id": "54776ef9",
   "metadata": {},
   "outputs": [
    {
     "name": "stdout",
     "output_type": "stream",
     "text": [
      "TOOL CALL (summary_agent): fetch_url({\"url\":\"https://en.wikipedia.org/wiki/Capybara\"})\n",
      "TOOL CALL (summary_agent): save_summary({\"url\":\"https://en.wikipedia.org/wiki/Capybara\",\"summary\":\"The capybara (Hydrochoerus hydrochaeris) is the largest living rodent, native to South America. It inhabits savannas and dense forests near water, living in social groups. Known for its barrel-shaped body and webbed feet, capybaras are herbivorous and primarily graze on grasses. They can swim well and are often seen in close proximity to aquatic environments. Capybaras have a stable population but are hunted for meat and leather in some areas. Their docile nature has made them popular in captivity and they are often seen in zoos and parks.\"})\n"
     ]
    }
   ],
   "source": [
    "results = await summarizer.run(\n",
    "    user_prompt=\"What is this page about? https://en.wikipedia.org/wiki/Capybara\",\n",
    "    event_stream_handler=NamedCallback(summarizer)\n",
    ")"
   ]
  },
  {
   "cell_type": "code",
   "execution_count": 39,
   "id": "c033785f",
   "metadata": {},
   "outputs": [
    {
     "name": "stdout",
     "output_type": "stream",
     "text": [
      "The page is about the capybara (Hydrochoerus hydrochaeris), the largest living rodent native to South America. It describes the capybara's habitat, social behavior, physical characteristics, diet, ecological role, and its interactions with humans. Capybaras are social creatures that often live near water in groups, and they are primarily herbivorous, eating grasses and aquatic plants. Although they are stable in population, they are hunted for meat and leather. Their docile nature has made them popular in captivity, leading to their presence in zoos and parks.\n"
     ]
    }
   ],
   "source": [
    "print(results.output)"
   ]
  },
  {
   "cell_type": "code",
   "execution_count": 40,
   "id": "fdf3695f",
   "metadata": {},
   "outputs": [
    {
     "name": "stdout",
     "output_type": "stream",
     "text": [
      "TOOL CALL (summary_agent): fetch_url({\"url\":\"https://en.wikipedia.org/wiki/Lesser_capybara\"})\n",
      "TOOL CALL (summary_agent): save_summary({\"url\":\"https://en.wikipedia.org/wiki/Lesser_capybara\",\"summary\":\"The lesser capybara (_Hydrochoerus isthmius_) is a large semi-aquatic rodent native to South America, particularly found in areas close to water. Smaller than the common capybara, it has a dark brown coat and reaches up to 3 feet in length. This herbivorous species primarily eats grasses and aquatic plants, and can weigh up to 62 pounds. They are excellent swimmers, adapting to escape predators, and their mating occurs year-round in water, typically resulting in litters of 3 to 4 young.\"})\n"
     ]
    }
   ],
   "source": [
    "results = await summarizer.run(\n",
    "    user_prompt=\"What is this page about? https://en.wikipedia.org/wiki/Lesser_capybara\",\n",
    "    event_stream_handler=NamedCallback(summarizer)\n",
    ")"
   ]
  },
  {
   "cell_type": "code",
   "execution_count": 43,
   "id": "3b2cc2c4",
   "metadata": {},
   "outputs": [
    {
     "name": "stdout",
     "output_type": "stream",
     "text": [
      "TOOL CALL (summary_agent): fetch_url({\"url\":\"https://en.wikipedia.org/wiki/Hydrochoerus\"})\n",
      "TOOL CALL (summary_agent): save_summary({\"url\":\"https://en.wikipedia.org/wiki/Hydrochoerus\",\"summary\":\"The genus Hydrochoerus comprises large rodents from South America, including two living species: the capybara (Hydrochoerus hydrochaeris) and the lesser capybara (Hydrochoerus isthmius), plus three extinct species. Capybaras are the largest rodents, known for their semi-aquatic habitat, social behavior, and diets mainly consisting of grasses. They can weigh up to 65 kg and usually have a gestation period of 130-150 days, commonly birthing four young. Hydrochoerus is part of the family Caviidae and is closely related to the genus Kerodon. Fossils indicate their distribution extended into North America and the Caribbean.\"})\n"
     ]
    }
   ],
   "source": [
    "results = await summarizer.run(\n",
    "    user_prompt=\"Summarize this https://en.wikipedia.org/wiki/Hydrochoerus\",\n",
    "    event_stream_handler=NamedCallback(summarizer)\n",
    ")"
   ]
  },
  {
   "cell_type": "code",
   "execution_count": 45,
   "id": "4d7ad62d",
   "metadata": {},
   "outputs": [
    {
     "name": "stdout",
     "output_type": "stream",
     "text": [
      "TOOL CALL (summary_agent): fetch_url({\"url\":\"https://en.wikipedia.org/wiki/Neochoerus\"})\n",
      "TOOL CALL (summary_agent): save_summary({\"url\":\"https://en.wikipedia.org/wiki/Neochoerus\",\"summary\":\"Neochoerus is an extinct genus of rodents closely related to the living capybara. Fossil remains have been found in North America (Mexico and the United States) and South America (Colombia). The genus includes several species such as Neochoerus aesopi and Neochoerus pinckneyi, and it existed during the Pleistocene epoch.\"})\n"
     ]
    }
   ],
   "source": [
    "results = await summarizer.run(\n",
    "    user_prompt=\"Neochoerus (extinct genus related to capybaras) — https://en.wikipedia.org/wiki/Neochoerus\",\n",
    "    event_stream_handler=NamedCallback(summarizer)\n",
    ")"
   ]
  },
  {
   "cell_type": "code",
   "execution_count": 46,
   "id": "141693b1",
   "metadata": {},
   "outputs": [
    {
     "name": "stdout",
     "output_type": "stream",
     "text": [
      "TOOL CALL (summary_agent): fetch_url({\"url\":\"https://en.wikipedia.org/wiki/Caviodon\"})\n",
      "TOOL CALL (summary_agent): save_summary({\"url\":\"https://en.wikipedia.org/wiki/Caviodon\",\"summary\":\"Caviodon is an extinct genus of rodents that lived during the Late Miocene to Late Pliocene (approximately 6.8 to 3.0 million years ago). It is related to modern capybaras and has been found in fossil records from Argentina, Venezuela, and Brazil. Notable species include *C. andalhualensis*, *C. australis*, *C. cuyano*, *C. multiplicatus*, and *C. pozzii*.\"})\n"
     ]
    }
   ],
   "source": [
    "results = await summarizer.run(\n",
    "    user_prompt=\"Caviodon (extinct genus of rodents related to capybaras) — https://en.wikipedia.org/wiki/Caviodon\",\n",
    "    event_stream_handler=NamedCallback(summarizer)\n",
    ")"
   ]
  },
  {
   "cell_type": "code",
   "execution_count": 47,
   "id": "78aa48ed",
   "metadata": {},
   "outputs": [
    {
     "name": "stdout",
     "output_type": "stream",
     "text": [
      "TOOL CALL (summary_agent): fetch_url({\"url\":\"https://en.wikipedia.org/wiki/Neochoerus_aesopi\"})\n",
      "TOOL CALL (summary_agent): save_summary({\"url\":\"https://en.wikipedia.org/wiki/Neochoerus_aesopi\",\"summary\":\"Neochoerus aesopi is an extinct species of large rodent that lived in North America during the Pleistocene epoch until about 12,000 years ago. Related to modern capybaras, it weighed approximately 80 kg and its fossils have been found in states such as Florida and South Carolina. The species was first described in 1853 and is part of the Hydrochoerinae subfamily. Unlike capybaras today, N. aesopi lived in North America, migrating from South America during the Great American Interchange.\"})\n"
     ]
    }
   ],
   "source": [
    "results = await summarizer.run(\n",
    "    user_prompt=\"Neochoerus aesopi (extinct species close to capybaras) — https://en.wikipedia.org/wiki/Neochoerus_aesopi\",\n",
    "    event_stream_handler=NamedCallback(summarizer)\n",
    ")"
   ]
  },
  {
   "cell_type": "code",
   "execution_count": 48,
   "id": "1ba4b848",
   "metadata": {},
   "outputs": [
    {
     "name": "stdout",
     "output_type": "stream",
     "text": [
      "TOOL CALL (summary_agent): search({\"query\":\"threats to capybara populations\"})\n"
     ]
    }
   ],
   "source": [
    "results = await summarizer.run(\n",
    "    user_prompt=\"What are threats to capybara populations?\",\n",
    "    event_stream_handler=NamedCallback(summarizer)\n",
    ")"
   ]
  },
  {
   "cell_type": "code",
   "execution_count": 49,
   "id": "d2e3b765",
   "metadata": {},
   "outputs": [
    {
     "data": {
      "text/plain": [
       "'Capybara populations face several threats, primarily due to human activities. Here are the key threats:\\n\\n1. **Hunting**: Capybaras are hunted for their meat and leather in various regions, which can lead to population declines.\\n2. **Habitat Loss**: Development, agriculture, and deforestation are contributing to the loss of their natural habitat, particularly near water bodies where they thrive.\\n3. **Human-Wildlife Conflict**: As their habitats overlap with human settlements, conflicts can arise, further threatening their populations.\\n\\nDespite these threats, capybara populations are currently considered stable in many areas.'"
      ]
     },
     "execution_count": 49,
     "metadata": {},
     "output_type": "execute_result"
    }
   ],
   "source": [
    "results.output"
   ]
  }
 ],
 "metadata": {
  "kernelspec": {
   "display_name": "ai-bootcamp",
   "language": "python",
   "name": "python3"
  },
  "language_info": {
   "codemirror_mode": {
    "name": "ipython",
    "version": 3
   },
   "file_extension": ".py",
   "mimetype": "text/x-python",
   "name": "python",
   "nbconvert_exporter": "python",
   "pygments_lexer": "ipython3",
   "version": "3.13.1"
  }
 },
 "nbformat": 4,
 "nbformat_minor": 5
}
